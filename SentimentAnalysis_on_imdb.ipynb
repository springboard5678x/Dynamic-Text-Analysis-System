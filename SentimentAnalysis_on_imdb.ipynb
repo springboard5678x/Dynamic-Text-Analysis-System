{
 "cells": [
  {
   "cell_type": "markdown",
   "id": "f7b488d6-76f9-40f5-9e3f-6b58d32bf9d6",
   "metadata": {},
   "source": [
    "# Loading Dataset"
   ]
  },
  {
   "cell_type": "code",
   "execution_count": 1,
   "id": "7eaafb49-1c5b-4d9c-8e46-2146e40d71e6",
   "metadata": {},
   "outputs": [],
   "source": [
    "import pandas as pd"
   ]
  },
  {
   "cell_type": "code",
   "execution_count": 2,
   "id": "617065aa-2202-4456-8180-b7823ace2e8d",
   "metadata": {},
   "outputs": [
    {
     "data": {
      "text/html": [
       "<div>\n",
       "<style scoped>\n",
       "    .dataframe tbody tr th:only-of-type {\n",
       "        vertical-align: middle;\n",
       "    }\n",
       "\n",
       "    .dataframe tbody tr th {\n",
       "        vertical-align: top;\n",
       "    }\n",
       "\n",
       "    .dataframe thead th {\n",
       "        text-align: right;\n",
       "    }\n",
       "</style>\n",
       "<table border=\"1\" class=\"dataframe\">\n",
       "  <thead>\n",
       "    <tr style=\"text-align: right;\">\n",
       "      <th></th>\n",
       "      <th>review</th>\n",
       "      <th>sentiment</th>\n",
       "      <th>clean_lowercase</th>\n",
       "      <th>clean_lowercase_re</th>\n",
       "      <th>no_stopwords</th>\n",
       "      <th>tokens</th>\n",
       "      <th>lemmatized</th>\n",
       "      <th>revised_tokens</th>\n",
       "    </tr>\n",
       "  </thead>\n",
       "  <tbody>\n",
       "    <tr>\n",
       "      <th>0</th>\n",
       "      <td>In Panic In The Streets Richard Widmark plays ...</td>\n",
       "      <td>1</td>\n",
       "      <td>in panic in the streets richard widmark plays ...</td>\n",
       "      <td>in panic in the streets richard widmark plays ...</td>\n",
       "      <td>panic streets richard widmark plays us navy do...</td>\n",
       "      <td>['panic', 'streets', 'richard', 'widmark', 'pl...</td>\n",
       "      <td>panic street richard widmark play u navy docto...</td>\n",
       "      <td>['panic', 'street', 'richard', 'widmark', 'pla...</td>\n",
       "    </tr>\n",
       "    <tr>\n",
       "      <th>1</th>\n",
       "      <td>If you ask me the first one was really better ...</td>\n",
       "      <td>0</td>\n",
       "      <td>if you ask me the first one was really better ...</td>\n",
       "      <td>if you ask me the first one was really better ...</td>\n",
       "      <td>ask first one really better one look sarah g r...</td>\n",
       "      <td>['ask', 'first', 'one', 'really', 'better', 'o...</td>\n",
       "      <td>ask first one really better one look sarah g r...</td>\n",
       "      <td>['ask', 'first', 'one', 'really', 'better', 'o...</td>\n",
       "    </tr>\n",
       "    <tr>\n",
       "      <th>2</th>\n",
       "      <td>I am a big fan a Faerie Tale Theatre and I've ...</td>\n",
       "      <td>1</td>\n",
       "      <td>i am a big fan a faerie tale theatre and i've ...</td>\n",
       "      <td>i am a big fan a faerie tale theatre and ive s...</td>\n",
       "      <td>big fan faerie tale theatre ive seen one best ...</td>\n",
       "      <td>['big', 'fan', 'faerie', 'tale', 'theatre', 'i...</td>\n",
       "      <td>big fan faerie tale theatre ive seen one best ...</td>\n",
       "      <td>['big', 'fan', 'faerie', 'tale', 'theatre', 'i...</td>\n",
       "    </tr>\n",
       "    <tr>\n",
       "      <th>3</th>\n",
       "      <td>I just finished reading a book about Dillinger...</td>\n",
       "      <td>0</td>\n",
       "      <td>i just finished reading a book about dillinger...</td>\n",
       "      <td>i just finished reading a book about dillinger...</td>\n",
       "      <td>finished reading book dillinger movie horribly...</td>\n",
       "      <td>['finished', 'reading', 'book', 'dillinger', '...</td>\n",
       "      <td>finished reading book dillinger movie horribly...</td>\n",
       "      <td>['finished', 'reading', 'book', 'dillinger', '...</td>\n",
       "    </tr>\n",
       "    <tr>\n",
       "      <th>4</th>\n",
       "      <td>Greg Davis and Bryan Daly take some crazed sta...</td>\n",
       "      <td>0</td>\n",
       "      <td>greg davis and bryan daly take some crazed sta...</td>\n",
       "      <td>greg davis and bryan daly take some crazed sta...</td>\n",
       "      <td>greg davis bryan daly take crazed statements t...</td>\n",
       "      <td>['greg', 'davis', 'bryan', 'daly', 'take', 'cr...</td>\n",
       "      <td>greg davis bryan daly take crazed statement te...</td>\n",
       "      <td>['greg', 'davis', 'bryan', 'daly', 'take', 'cr...</td>\n",
       "    </tr>\n",
       "  </tbody>\n",
       "</table>\n",
       "</div>"
      ],
      "text/plain": [
       "                                              review  sentiment  \\\n",
       "0  In Panic In The Streets Richard Widmark plays ...          1   \n",
       "1  If you ask me the first one was really better ...          0   \n",
       "2  I am a big fan a Faerie Tale Theatre and I've ...          1   \n",
       "3  I just finished reading a book about Dillinger...          0   \n",
       "4  Greg Davis and Bryan Daly take some crazed sta...          0   \n",
       "\n",
       "                                     clean_lowercase  \\\n",
       "0  in panic in the streets richard widmark plays ...   \n",
       "1  if you ask me the first one was really better ...   \n",
       "2  i am a big fan a faerie tale theatre and i've ...   \n",
       "3  i just finished reading a book about dillinger...   \n",
       "4  greg davis and bryan daly take some crazed sta...   \n",
       "\n",
       "                                  clean_lowercase_re  \\\n",
       "0  in panic in the streets richard widmark plays ...   \n",
       "1  if you ask me the first one was really better ...   \n",
       "2  i am a big fan a faerie tale theatre and ive s...   \n",
       "3  i just finished reading a book about dillinger...   \n",
       "4  greg davis and bryan daly take some crazed sta...   \n",
       "\n",
       "                                        no_stopwords  \\\n",
       "0  panic streets richard widmark plays us navy do...   \n",
       "1  ask first one really better one look sarah g r...   \n",
       "2  big fan faerie tale theatre ive seen one best ...   \n",
       "3  finished reading book dillinger movie horribly...   \n",
       "4  greg davis bryan daly take crazed statements t...   \n",
       "\n",
       "                                              tokens  \\\n",
       "0  ['panic', 'streets', 'richard', 'widmark', 'pl...   \n",
       "1  ['ask', 'first', 'one', 'really', 'better', 'o...   \n",
       "2  ['big', 'fan', 'faerie', 'tale', 'theatre', 'i...   \n",
       "3  ['finished', 'reading', 'book', 'dillinger', '...   \n",
       "4  ['greg', 'davis', 'bryan', 'daly', 'take', 'cr...   \n",
       "\n",
       "                                          lemmatized  \\\n",
       "0  panic street richard widmark play u navy docto...   \n",
       "1  ask first one really better one look sarah g r...   \n",
       "2  big fan faerie tale theatre ive seen one best ...   \n",
       "3  finished reading book dillinger movie horribly...   \n",
       "4  greg davis bryan daly take crazed statement te...   \n",
       "\n",
       "                                      revised_tokens  \n",
       "0  ['panic', 'street', 'richard', 'widmark', 'pla...  \n",
       "1  ['ask', 'first', 'one', 'really', 'better', 'o...  \n",
       "2  ['big', 'fan', 'faerie', 'tale', 'theatre', 'i...  \n",
       "3  ['finished', 'reading', 'book', 'dillinger', '...  \n",
       "4  ['greg', 'davis', 'bryan', 'daly', 'take', 'cr...  "
      ]
     },
     "execution_count": 2,
     "metadata": {},
     "output_type": "execute_result"
    }
   ],
   "source": [
    "df = pd.read_csv(\"training_processed_dataset.csv\")\n",
    "df.head()"
   ]
  },
  {
   "cell_type": "markdown",
   "id": "5f4ca79c-2847-42c0-b5ec-f653105d34a6",
   "metadata": {},
   "source": [
    "# Checking distribution of dataset"
   ]
  },
  {
   "cell_type": "code",
   "execution_count": 3,
   "id": "609a3608-5df0-4941-93e5-88a8c53b6d02",
   "metadata": {},
   "outputs": [
    {
     "data": {
      "text/plain": [
       "2"
      ]
     },
     "execution_count": 3,
     "metadata": {},
     "output_type": "execute_result"
    }
   ],
   "source": [
    "df[\"sentiment\"].nunique()"
   ]
  },
  {
   "cell_type": "code",
   "execution_count": 4,
   "id": "1e6ef794-a64d-4b01-b3de-98d8cd864264",
   "metadata": {},
   "outputs": [
    {
     "data": {
      "text/plain": [
       "sentiment\n",
       "1    12500\n",
       "0    12500\n",
       "Name: count, dtype: int64"
      ]
     },
     "execution_count": 4,
     "metadata": {},
     "output_type": "execute_result"
    }
   ],
   "source": [
    "df[\"sentiment\"].value_counts()"
   ]
  },
  {
   "cell_type": "code",
   "execution_count": 5,
   "id": "bee4ff91-d82f-4067-9a01-2baa0f57a973",
   "metadata": {},
   "outputs": [],
   "source": [
    "import matplotlib.pyplot as plt\n",
    "import seaborn as sns"
   ]
  },
  {
   "cell_type": "code",
   "execution_count": 6,
   "id": "3ea94503-3deb-4fba-a6a2-c7844766769a",
   "metadata": {},
   "outputs": [
    {
     "data": {
      "image/png": "[encoded data removed]",
      "text/plain": [
       "<Figure size 640x480 with 1 Axes>"
      ]
     },
     "metadata": {},
     "output_type": "display_data"
    }
   ],
   "source": [
    "df[\"sentiment\"].value_counts().plot(kind=\"bar\")\n",
    "plt.show()"
   ]
  },
  {
   "cell_type": "markdown",
   "id": "dd1de7c8-8ded-48e7-b4e9-d414efe96a5a",
   "metadata": {},
   "source": [
    "# Sentiment Analysis"
   ]
  },
  {
   "cell_type": "code",
   "execution_count": 7,
   "id": "c0ded9ba-f80d-42c7-81eb-965aa36263d3",
   "metadata": {},
   "outputs": [],
   "source": [
    "from collections import Counter"
   ]
  },
  {
   "cell_type": "code",
   "execution_count": 8,
   "id": "a9ed7112-254f-4521-873f-435a722b7147",
   "metadata": {},
   "outputs": [],
   "source": [
    "# Finding the most common words in positive sentiment staements\n",
    "positive_sentiment = df[df[\"sentiment\"]==1]\n",
    "positive_sentiment_text = positive_sentiment[\"lemmatized\"]\n",
    "positivedata_words = ' '.join(positive_sentiment_text).split()\n",
    "positive_word_counts = Counter(positivedata_words)\n",
    "positive_most_common = positive_word_counts.most_common(10)"
   ]
  },
  {
   "cell_type": "code",
   "execution_count": 9,
   "id": "c7af90c0-1aaf-4891-8822-f046be788f28",
   "metadata": {},
   "outputs": [],
   "source": [
    "# Finding the most common words in negative sentiment staements\n",
    "negative_sentiment = df[df[\"sentiment\"]==0]\n",
    "negative_sentiment_text = negative_sentiment[\"revised_tokens\"]\n",
    "negativedata_words = ' '.join(negative_sentiment_text).split()\n",
    "negative_word_counts = Counter(negativedata_words)\n",
    "negative_most_common = negative_word_counts.most_common(10)"
   ]
  },
  {
   "cell_type": "code",
   "execution_count": 10,
   "id": "4c9ff7d7-a7c9-4d50-8ba5-44dbf0e96cf1",
   "metadata": {},
   "outputs": [
    {
     "data": {
      "image/png": "[encoded data removed]",
      "text/plain": [
       "<Figure size 1000x1000 with 2 Axes>"
      ]
     },
     "metadata": {},
     "output_type": "display_data"
    }
   ],
   "source": [
    "# Plotting\n",
    "fig, axes = plt.subplots(1, 2, figsize=(10,10))\n",
    "\n",
    "# Positive data word frequency\n",
    "axes[0].barh(range(len(positive_most_common)), [count for _, count in positive_most_common], align='center')\n",
    "axes[0].set_yticks(range(len(positive_most_common)))\n",
    "axes[0].set_yticklabels([word for word, _ in positive_most_common])\n",
    "axes[0].set_title('Positive Data Word Frequency')\n",
    "\n",
    "# Negative data word frequency\n",
    "axes[1].barh(range(len(negative_most_common)), [count for _, count in negative_most_common], align='center')\n",
    "axes[1].set_yticks(range(len(negative_most_common)))\n",
    "axes[1].set_yticklabels([word for word, _ in negative_most_common])\n",
    "axes[1].set_title('Negative Data Word Frequency')\n",
    "\n",
    "plt.tight_layout()\n",
    "plt.show()"
   ]
  },
  {
   "cell_type": "code",
   "execution_count": 11,
   "id": "799876bf-2d6e-4a4e-9427-d22cea023ea8",
   "metadata": {},
   "outputs": [
    {
     "data": {
      "text/html": [
       "<div>\n",
       "<style scoped>\n",
       "    .dataframe tbody tr th:only-of-type {\n",
       "        vertical-align: middle;\n",
       "    }\n",
       "\n",
       "    .dataframe tbody tr th {\n",
       "        vertical-align: top;\n",
       "    }\n",
       "\n",
       "    .dataframe thead th {\n",
       "        text-align: right;\n",
       "    }\n",
       "</style>\n",
       "<table border=\"1\" class=\"dataframe\">\n",
       "  <thead>\n",
       "    <tr style=\"text-align: right;\">\n",
       "      <th></th>\n",
       "      <th>review</th>\n",
       "      <th>sentiment</th>\n",
       "      <th>clean_lowercase</th>\n",
       "      <th>clean_lowercase_re</th>\n",
       "      <th>no_stopwords</th>\n",
       "      <th>tokens</th>\n",
       "      <th>lemmatized</th>\n",
       "      <th>revised_tokens</th>\n",
       "    </tr>\n",
       "  </thead>\n",
       "  <tbody>\n",
       "    <tr>\n",
       "      <th>0</th>\n",
       "      <td>When I was a kid, I loved \"Tiny Toons\". I espe...</td>\n",
       "      <td>1</td>\n",
       "      <td>when i was a kid, i loved \"tiny toons\". i espe...</td>\n",
       "      <td>when i was a kid i loved tiny toons i especial...</td>\n",
       "      <td>kid loved tiny toons especially loved tiny too...</td>\n",
       "      <td>['kid', 'loved', 'tiny', 'toons', 'especially'...</td>\n",
       "      <td>kid loved tiny toon especially loved tiny toon...</td>\n",
       "      <td>['kid', 'loved', 'tiny', 'toon', 'especially',...</td>\n",
       "    </tr>\n",
       "    <tr>\n",
       "      <th>1</th>\n",
       "      <td>The setup for \"Nature of the Beast\" is ingenio...</td>\n",
       "      <td>0</td>\n",
       "      <td>the setup for \"nature of the beast\" is ingenio...</td>\n",
       "      <td>the setup for nature of the beast is ingenious...</td>\n",
       "      <td>setup nature beast ingeniously simple fraught ...</td>\n",
       "      <td>['setup', 'nature', 'beast', 'ingeniously', 's...</td>\n",
       "      <td>setup nature beast ingeniously simple fraught ...</td>\n",
       "      <td>['setup', 'nature', 'beast', 'ingeniously', 's...</td>\n",
       "    </tr>\n",
       "    <tr>\n",
       "      <th>2</th>\n",
       "      <td>I do not have much to say than this is a great...</td>\n",
       "      <td>1</td>\n",
       "      <td>i do not have much to say than this is a great...</td>\n",
       "      <td>i do not have much to say than this is a great...</td>\n",
       "      <td>much say great finish story people said enough...</td>\n",
       "      <td>['much', 'say', 'great', 'finish', 'story', 'p...</td>\n",
       "      <td>much say great finish story people said enough...</td>\n",
       "      <td>['much', 'say', 'great', 'finish', 'story', 'p...</td>\n",
       "    </tr>\n",
       "    <tr>\n",
       "      <th>3</th>\n",
       "      <td>Extremely formulaic with cosmic-sized logic ho...</td>\n",
       "      <td>0</td>\n",
       "      <td>extremely formulaic with cosmic-sized logic ho...</td>\n",
       "      <td>extremely formulaic with cosmicsized logic hol...</td>\n",
       "      <td>extremely formulaic cosmicsized logic holes pr...</td>\n",
       "      <td>['extremely', 'formulaic', 'cosmicsized', 'log...</td>\n",
       "      <td>extremely formulaic cosmicsized logic hole pre...</td>\n",
       "      <td>['extremely', 'formulaic', 'cosmicsized', 'log...</td>\n",
       "    </tr>\n",
       "    <tr>\n",
       "      <th>4</th>\n",
       "      <td>I actually liked certain things about this gam...</td>\n",
       "      <td>0</td>\n",
       "      <td>i actually liked certain things about this gam...</td>\n",
       "      <td>i actually liked certain things about this gam...</td>\n",
       "      <td>actually liked certain things game loved first...</td>\n",
       "      <td>['actually', 'liked', 'certain', 'things', 'ga...</td>\n",
       "      <td>actually liked certain thing game loved first ...</td>\n",
       "      <td>['actually', 'liked', 'certain', 'thing', 'gam...</td>\n",
       "    </tr>\n",
       "  </tbody>\n",
       "</table>\n",
       "</div>"
      ],
      "text/plain": [
       "                                              review  sentiment  \\\n",
       "0  When I was a kid, I loved \"Tiny Toons\". I espe...          1   \n",
       "1  The setup for \"Nature of the Beast\" is ingenio...          0   \n",
       "2  I do not have much to say than this is a great...          1   \n",
       "3  Extremely formulaic with cosmic-sized logic ho...          0   \n",
       "4  I actually liked certain things about this gam...          0   \n",
       "\n",
       "                                     clean_lowercase  \\\n",
       "0  when i was a kid, i loved \"tiny toons\". i espe...   \n",
       "1  the setup for \"nature of the beast\" is ingenio...   \n",
       "2  i do not have much to say than this is a great...   \n",
       "3  extremely formulaic with cosmic-sized logic ho...   \n",
       "4  i actually liked certain things about this gam...   \n",
       "\n",
       "                                  clean_lowercase_re  \\\n",
       "0  when i was a kid i loved tiny toons i especial...   \n",
       "1  the setup for nature of the beast is ingenious...   \n",
       "2  i do not have much to say than this is a great...   \n",
       "3  extremely formulaic with cosmicsized logic hol...   \n",
       "4  i actually liked certain things about this gam...   \n",
       "\n",
       "                                        no_stopwords  \\\n",
       "0  kid loved tiny toons especially loved tiny too...   \n",
       "1  setup nature beast ingeniously simple fraught ...   \n",
       "2  much say great finish story people said enough...   \n",
       "3  extremely formulaic cosmicsized logic holes pr...   \n",
       "4  actually liked certain things game loved first...   \n",
       "\n",
       "                                              tokens  \\\n",
       "0  ['kid', 'loved', 'tiny', 'toons', 'especially'...   \n",
       "1  ['setup', 'nature', 'beast', 'ingeniously', 's...   \n",
       "2  ['much', 'say', 'great', 'finish', 'story', 'p...   \n",
       "3  ['extremely', 'formulaic', 'cosmicsized', 'log...   \n",
       "4  ['actually', 'liked', 'certain', 'things', 'ga...   \n",
       "\n",
       "                                          lemmatized  \\\n",
       "0  kid loved tiny toon especially loved tiny toon...   \n",
       "1  setup nature beast ingeniously simple fraught ...   \n",
       "2  much say great finish story people said enough...   \n",
       "3  extremely formulaic cosmicsized logic hole pre...   \n",
       "4  actually liked certain thing game loved first ...   \n",
       "\n",
       "                                      revised_tokens  \n",
       "0  ['kid', 'loved', 'tiny', 'toon', 'especially',...  \n",
       "1  ['setup', 'nature', 'beast', 'ingeniously', 's...  \n",
       "2  ['much', 'say', 'great', 'finish', 'story', 'p...  \n",
       "3  ['extremely', 'formulaic', 'cosmicsized', 'log...  \n",
       "4  ['actually', 'liked', 'certain', 'thing', 'gam...  "
      ]
     },
     "execution_count": 11,
     "metadata": {},
     "output_type": "execute_result"
    }
   ],
   "source": [
    "df_test = pd.read_csv(\"testing_processed_dataset.csv\")\n",
    "df_test.head()"
   ]
  },
  {
   "cell_type": "code",
   "execution_count": 12,
   "id": "105d91fd-1791-4554-8f1c-106622f2ba5a",
   "metadata": {},
   "outputs": [
    {
     "data": {
      "text/plain": [
       "(50000, 8)"
      ]
     },
     "execution_count": 12,
     "metadata": {},
     "output_type": "execute_result"
    }
   ],
   "source": [
    "complete_df = pd.concat([df,df_test],ignore_index=True)\n",
    "complete_df.shape"
   ]
  },
  {
   "cell_type": "code",
   "execution_count": 13,
   "id": "9718af05-984d-48f8-88ef-1690c316c1de",
   "metadata": {},
   "outputs": [],
   "source": [
    "complete_df.to_csv(\"complete_imdb_preprocessed_dataset.csv\",index=False,encoding=\"utf-8\")"
   ]
  },
  {
   "cell_type": "code",
   "execution_count": 14,
   "id": "ffecbe14-e477-4e29-a5c2-a605067d4b3b",
   "metadata": {},
   "outputs": [],
   "source": [
    "from sklearn.feature_extraction.text import TfidfVectorizer\n",
    "from sklearn.model_selection import train_test_split\n",
    "from sklearn.linear_model import LogisticRegressionCV\n",
    "tfidf=TfidfVectorizer(strip_accents=None,lowercase=False,preprocessor=None,use_idf=True,norm='l2',smooth_idf=True)"
   ]
  },
  {
   "cell_type": "code",
   "execution_count": 15,
   "id": "4d9c9149-21f2-4ae3-bf13-191372821e6b",
   "metadata": {},
   "outputs": [],
   "source": [
    "X = tfidf.fit_transform(complete_df[\"lemmatized\"])\n",
    "y = complete_df[\"sentiment\"].values"
   ]
  },
  {
   "cell_type": "code",
   "execution_count": 16,
   "id": "397ac53e-94f2-4a7e-9dcb-9c782d3f4f9b",
   "metadata": {},
   "outputs": [
    {
     "name": "stdout",
     "output_type": "stream",
     "text": [
      "(25000, 203415) (25000, 203415) (25000,) (25000,)\n"
     ]
    }
   ],
   "source": [
    "X_train,X_test,y_train,y_test = train_test_split(X,y,test_size = 0.5,random_state=42)\n",
    "print(X_train.shape,X_test.shape,y_train.shape,y_test.shape)"
   ]
  },
  {
   "cell_type": "markdown",
   "id": "87e0d1ec-cb99-4f39-894d-cec63ed60a86",
   "metadata": {},
   "source": [
    "# Logistic Regression CV"
   ]
  },
  {
   "cell_type": "code",
   "execution_count": 17,
   "id": "72622827-5c3b-4230-a011-9df086dd0567",
   "metadata": {},
   "outputs": [
    {
     "name": "stderr",
     "output_type": "stream",
     "text": [
      "[Parallel(n_jobs=1)]: Done   6 out of   6 | elapsed:  1.1min finished\n"
     ]
    }
   ],
   "source": [
    "from sklearn.metrics import make_scorer, accuracy_score\n",
    "clf=LogisticRegressionCV(cv=6,scoring='accuracy',random_state=0,n_jobs=1,verbose=3,max_iter=500).fit(X_train,y_train)\n",
    "y_pred = clf.predict(X_test)"
   ]
  },
  {
   "cell_type": "code",
   "execution_count": 18,
   "id": "93ad14c3-e5e1-47f5-983d-06bbe0355806",
   "metadata": {},
   "outputs": [
    {
     "name": "stdout",
     "output_type": "stream",
     "text": [
      "Accuracy: 0.89024\n"
     ]
    }
   ],
   "source": [
    "print(\"Accuracy:\",accuracy_score(y_test, y_pred))"
   ]
  },
  {
   "cell_type": "markdown",
   "id": "52794172-3a89-4d2b-99ac-812b0b3e7a80",
   "metadata": {},
   "source": [
    "# More Models"
   ]
  },
  {
   "cell_type": "code",
   "execution_count": 19,
   "id": "667af229-9606-4da6-afd1-baaa8cd3e2a2",
   "metadata": {},
   "outputs": [],
   "source": [
    "from sklearn.linear_model import LogisticRegression\n",
    "from sklearn.naive_bayes import MultinomialNB\n",
    "from sklearn.svm import LinearSVC\n",
    "from sklearn.ensemble import RandomForestClassifier\n",
    "from sklearn.metrics import classification_report"
   ]
  },
  {
   "cell_type": "markdown",
   "id": "447a26f8-f6b8-452a-aefa-0de24a1183a7",
   "metadata": {},
   "source": [
    "# Logistic Regression"
   ]
  },
  {
   "cell_type": "code",
   "execution_count": 20,
   "id": "a47eb761-61e8-4eac-a314-a9d0cf095259",
   "metadata": {},
   "outputs": [
    {
     "name": "stdout",
     "output_type": "stream",
     "text": [
      "              precision    recall  f1-score   support\n",
      "\n",
      "           0       0.89      0.88      0.88     12480\n",
      "           1       0.88      0.89      0.89     12520\n",
      "\n",
      "    accuracy                           0.89     25000\n",
      "   macro avg       0.89      0.89      0.89     25000\n",
      "weighted avg       0.89      0.89      0.89     25000\n",
      "\n"
     ]
    }
   ],
   "source": [
    "lr_model = LogisticRegression(max_iter=1000)\n",
    "lr_model.fit(X_train, y_train)\n",
    "lr_preds = lr_model.predict(X_test)\n",
    "print(classification_report(y_test, lr_preds))"
   ]
  },
  {
   "cell_type": "markdown",
   "id": "4f751b6f-dbba-4f0c-8896-f6073295d395",
   "metadata": {},
   "source": [
    "# Naive Bayes"
   ]
  },
  {
   "cell_type": "code",
   "execution_count": 21,
   "id": "304f2586-7176-44a6-b830-042092e7c047",
   "metadata": {},
   "outputs": [
    {
     "name": "stdout",
     "output_type": "stream",
     "text": [
      "              precision    recall  f1-score   support\n",
      "\n",
      "           0       0.85      0.88      0.86     12480\n",
      "           1       0.87      0.84      0.86     12520\n",
      "\n",
      "    accuracy                           0.86     25000\n",
      "   macro avg       0.86      0.86      0.86     25000\n",
      "weighted avg       0.86      0.86      0.86     25000\n",
      "\n"
     ]
    }
   ],
   "source": [
    "nb_model = MultinomialNB()\n",
    "nb_model.fit(X_train, y_train)\n",
    "nb_preds = nb_model.predict(X_test)\n",
    "print(classification_report(y_test, nb_preds))"
   ]
  },
  {
   "cell_type": "markdown",
   "id": "bb0abf03-6720-40e5-b223-0838e60ef7de",
   "metadata": {},
   "source": [
    "# SVM"
   ]
  },
  {
   "cell_type": "code",
   "execution_count": 22,
   "id": "6aaf9969-1724-409f-a98c-9d1544bc8f6b",
   "metadata": {},
   "outputs": [
    {
     "name": "stdout",
     "output_type": "stream",
     "text": [
      "              precision    recall  f1-score   support\n",
      "\n",
      "           0       0.89      0.88      0.89     12480\n",
      "           1       0.88      0.90      0.89     12520\n",
      "\n",
      "    accuracy                           0.89     25000\n",
      "   macro avg       0.89      0.89      0.89     25000\n",
      "weighted avg       0.89      0.89      0.89     25000\n",
      "\n"
     ]
    }
   ],
   "source": [
    "svm_model = LinearSVC()\n",
    "svm_model.fit(X_train, y_train)\n",
    "svm_preds = svm_model.predict(X_test)\n",
    "print(classification_report(y_test, svm_preds))"
   ]
  },
  {
   "cell_type": "markdown",
   "id": "cdeeb718-9ae4-46d9-93af-db9cac68f240",
   "metadata": {},
   "source": [
    "# Random Forest"
   ]
  },
  {
   "cell_type": "code",
   "execution_count": 23,
   "id": "e7037122-eee0-4edb-aef2-8bbad14cc7cd",
   "metadata": {},
   "outputs": [
    {
     "name": "stdout",
     "output_type": "stream",
     "text": [
      "              precision    recall  f1-score   support\n",
      "\n",
      "           0       0.85      0.84      0.85     12480\n",
      "           1       0.85      0.85      0.85     12520\n",
      "\n",
      "    accuracy                           0.85     25000\n",
      "   macro avg       0.85      0.85      0.85     25000\n",
      "weighted avg       0.85      0.85      0.85     25000\n",
      "\n"
     ]
    }
   ],
   "source": [
    "rf_model = RandomForestClassifier()\n",
    "rf_model.fit(X_train, y_train)\n",
    "rf_preds = rf_model.predict(X_test)\n",
    "print(classification_report(y_test, rf_preds))"
   ]
  },
  {
   "cell_type": "code",
   "execution_count": 1,
   "id": "6caea766-44d4-4028-a30f-6b4b8fdf36f7",
   "metadata": {},
   "outputs": [],
   "source": [
    "import matplotlib.pyplot as plt\n",
    "import seaborn as sns"
   ]
  },
  {
   "cell_type": "code",
   "execution_count": 7,
   "id": "3919ea9e-cf35-4255-bc0b-ecb5d5135c83",
   "metadata": {},
   "outputs": [
    {
     "data": {
      "image/png": "[encoded data removed]",
      "text/plain": [
       "<Figure size 1000x600 with 1 Axes>"
      ]
     },
     "metadata": {},
     "output_type": "display_data"
    }
   ],
   "source": [
    "accuracy = [89.024, 89, 86, 89, 85]\n",
    "models = [\"Logistic Regression CV\", \"Logistic Regression\", \"Naive Bayes\", \"SVM\", \"Random Forest\"]\n",
    "colors = ['crimson', 'royalblue', 'forestgreen', 'goldenrod', 'thistle']\n",
    "\n",
    "fig, ax = plt.subplots(figsize=(10, 6))\n",
    "\n",
    "for i in range(len(models)):\n",
    "    ax.plot(i, accuracy[i], marker='o', color=colors[i], label=models[i])\n",
    "\n",
    "ax.plot(range(len(models)), accuracy, linestyle='--', color='gray', alpha=0.5)\n",
    "\n",
    "ax.set_xticks(range(len(models)))\n",
    "ax.set_xticklabels(models, rotation=30, ha='right')\n",
    "ax.set_ylabel('Accuracy (%)')\n",
    "ax.set_title('Model Accuracy Comparison')\n",
    "\n",
    "ax.legend(loc='upper left', bbox_to_anchor=(1, 1), title='Models')\n",
    "\n",
    "plt.tight_layout()\n",
    "plt.show()"
   ]
  },
  {
   "cell_type": "markdown",
   "id": "32c3255b-65c7-4b8d-84c2-a9886688b1f5",
   "metadata": {},
   "source": [
    "# More Models (Unsupervised)"
   ]
  },
  {
   "cell_type": "code",
   "execution_count": 26,
   "id": "cfc4ca35-32f3-4b67-88d0-5bf820d4b8e9",
   "metadata": {},
   "outputs": [],
   "source": [
    "import numpy as np\n",
    "from sklearn.cluster import DBSCAN\n",
    "from sklearn.cluster import KMeans\n",
    "from sklearn.metrics import silhouette_score\n",
    "from sklearn.decomposition import TruncatedSVD\n",
    "import matplotlib.pyplot as plt"
   ]
  },
  {
   "cell_type": "code",
   "execution_count": 27,
   "id": "6fe066f0-f25e-4eb9-848a-d10d4348c992",
   "metadata": {},
   "outputs": [
    {
     "data": {
      "text/html": [
       "<div>\n",
       "<style scoped>\n",
       "    .dataframe tbody tr th:only-of-type {\n",
       "        vertical-align: middle;\n",
       "    }\n",
       "\n",
       "    .dataframe tbody tr th {\n",
       "        vertical-align: top;\n",
       "    }\n",
       "\n",
       "    .dataframe thead th {\n",
       "        text-align: right;\n",
       "    }\n",
       "</style>\n",
       "<table border=\"1\" class=\"dataframe\">\n",
       "  <thead>\n",
       "    <tr style=\"text-align: right;\">\n",
       "      <th></th>\n",
       "      <th>review</th>\n",
       "    </tr>\n",
       "  </thead>\n",
       "  <tbody>\n",
       "    <tr>\n",
       "      <th>0</th>\n",
       "      <td>I admit, the great majority of films released ...</td>\n",
       "    </tr>\n",
       "    <tr>\n",
       "      <th>1</th>\n",
       "      <td>Take a low budget, inexperienced actors doubli...</td>\n",
       "    </tr>\n",
       "    <tr>\n",
       "      <th>2</th>\n",
       "      <td>Everybody has seen 'Back To The Future,' right...</td>\n",
       "    </tr>\n",
       "    <tr>\n",
       "      <th>3</th>\n",
       "      <td>Doris Day was an icon of beauty in singing and...</td>\n",
       "    </tr>\n",
       "    <tr>\n",
       "      <th>4</th>\n",
       "      <td>After a series of silly, fun-loving movies, 19...</td>\n",
       "    </tr>\n",
       "  </tbody>\n",
       "</table>\n",
       "</div>"
      ],
      "text/plain": [
       "                                              review\n",
       "0  I admit, the great majority of films released ...\n",
       "1  Take a low budget, inexperienced actors doubli...\n",
       "2  Everybody has seen 'Back To The Future,' right...\n",
       "3  Doris Day was an icon of beauty in singing and...\n",
       "4  After a series of silly, fun-loving movies, 19..."
      ]
     },
     "execution_count": 27,
     "metadata": {},
     "output_type": "execute_result"
    }
   ],
   "source": [
    "unsup = pd.read_csv(\"Unsupervised_Dataset.csv\")\n",
    "unsup.head()"
   ]
  },
  {
   "cell_type": "code",
   "execution_count": null,
   "id": "d7cf6c40-08d7-4ef3-98c9-8b4d39f532b0",
   "metadata": {},
   "outputs": [],
   "source": []
  }
 ],
 "metadata": {
  "kernelspec": {
   "display_name": "Python 3 (ipykernel)",
   "language": "python",
   "name": "python3"
  },
  "language_info": {
   "codemirror_mode": {
    "name": "ipython",
    "version": 3
   },
   "file_extension": ".py",
   "mimetype": "text/x-python",
   "name": "python",
   "nbconvert_exporter": "python",
   "pygments_lexer": "ipython3",
   "version": "3.13.5"
  }
 },
 "nbformat": 4,
 "nbformat_minor": 5
}
